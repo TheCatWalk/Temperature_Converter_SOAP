{
  "cells": [
    {
      "cell_type": "code",
      "source": [
        "!pip install -r requirements.txt\n",
        "\n",
        "import zeep\n",
        "from zeep import Client\n",
        "import ipywidgets as widgets\n",
        "from IPython.display import display\n",
        "import webbrowser"
      ],
      "outputs": [],
      "execution_count": null,
      "metadata": {
        "gather": {
          "logged": 1696951433549
        }
      },
      "id": "51ffb59d"
    },
    {
      "cell_type": "code",
      "source": [
        "temperature_input = widgets.FloatText(description=\"Temperature:\")\n",
        "from_unit_dropdown = widgets.Dropdown(options=[\"degreeFahrenheit\", \"degreeCelsius\"], description=\"From:\")\n",
        "to_unit_dropdown = widgets.Dropdown(options=[\"degreeCelsius\", \"degreeFahrenheit\"], description=\"To:\")\n",
        "convert_button = widgets.Button(description=\"Convert\")\n",
        "\n",
        "output_text = widgets.Text(description=\"Converted Temperature:\")\n",
        "output_number = widgets.Text(description=\"Number Converted to Words:\")\n",
        "error_text = widgets.Text(description=\"Error:\")"
      ],
      "outputs": [],
      "execution_count": null,
      "metadata": {
        "gather": {
          "logged": 1696950713103
        }
      },
      "id": "a3b87011"
    },
    {
      "cell_type": "code",
      "source": [
        "def convert_button_clicked(b):\n",
        "    try:\n",
        "        # Get input values\n",
        "        temp = temperature_input.value\n",
        "        from_unit = from_unit_dropdown.value\n",
        "        to_unit = to_unit_dropdown.value\n",
        "        \n",
        "        # Call function to convert temperature\n",
        "        converted_temp = convert_temperature(temp, from_unit, to_unit)\n",
        "\n",
        "        # Convert the converted_temp to a float for comparison\n",
        "        converted_temp_float = float(converted_temp)\n",
        "\n",
        "        if converted_temp_float < 0:\n",
        "            # Set the converted_temp to its absolute value\n",
        "            converted_temp = abs(converted_temp_float)\n",
        "        else:\n",
        "            error_text.value = \"\"  # Clear any previous error message\n",
        "\n",
        "        # Display the original converted temperature value\n",
        "        output_text.value = str(converted_temp_float)\n",
        "        \n",
        "        # Call function to convert number to words\n",
        "        number_converted = convert_number_to_words(converted_temp)\n",
        "        \n",
        "        # Check if the converted temperature has fractional parts other than .00\n",
        "        if converted_temp_float % 1 != 0 and str(converted_temp_float % 1) != \".00\":\n",
        "            error_text.value = \"Error: SOAP cannot convert fractional values. Temperature rounded down.\"\n",
        "        \n",
        "        if converted_temp_float < 0:\n",
        "            # Display negative value with \"Negative\" prefix\n",
        "            output_number.value = \"Negative \" + number_converted\n",
        "        else:\n",
        "            output_number.value = number_converted\n",
        "                \n",
        "    except Exception as e:\n",
        "        error_text.value = str(e)\n"
      ],
      "outputs": [],
      "execution_count": null,
      "metadata": {
        "jupyter": {
          "source_hidden": false,
          "outputs_hidden": false
        },
        "nteract": {
          "transient": {
            "deleting": false
          }
        },
        "gather": {
          "logged": 1696951463275
        }
      },
      "id": "a3e73f9d-5a76-4847-864c-92147c1b4ba6"
    },
    {
      "cell_type": "code",
      "source": [
        "def open_web_app():\n",
        "    webbrowser.open_new_tab(\"http://localhost:8890/notebooks/temp_converter.ipynb\")"
      ],
      "outputs": [],
      "execution_count": null,
      "metadata": {
        "jupyter": {
          "source_hidden": false,
          "outputs_hidden": false
        },
        "nteract": {
          "transient": {
            "deleting": false
          }
        },
        "gather": {
          "logged": 1696951465465
        }
      },
      "id": "e71e137a-d63f-4c5a-b35a-e907e8e3f346"
    },
    {
      "cell_type": "code",
      "source": [
        "# WSDL URLs for SOAP services\n",
        "tempconvert_wsdl = \"https://www.w3schools.com/xml/tempconvert.asmx?WSDL\"\n",
        "numberconversion_wsdl = \"https://www.dataaccess.com/webservicesserver/numberconversion.wso?WSDL\"\n",
        "\n",
        "# Create clients for both SOAP services\n",
        "tempconvert_client = Client(tempconvert_wsdl)\n",
        "numberconversion_client = Client(numberconversion_wsdl)\n"
      ],
      "outputs": [],
      "execution_count": null,
      "metadata": {
        "jupyter": {
          "source_hidden": false,
          "outputs_hidden": false
        },
        "nteract": {
          "transient": {
            "deleting": false
          }
        },
        "gather": {
          "logged": 1696951466765
        }
      },
      "id": "3a086e8b-1d5e-41d5-9354-754f044c0f86"
    },
    {
      "cell_type": "code",
      "source": [
        "# Function to convert temperature using SOAP service\n",
        "def convert_temperature(temp, from_unit, to_unit):\n",
        "    # Call the appropriate operation based on the units\n",
        "    if from_unit.lower() == 'degreecelsius' and to_unit.lower() == 'degreefahrenheit':\n",
        "        result = tempconvert_client.service.CelsiusToFahrenheit(temp)\n",
        "    elif from_unit.lower() == 'degreefahrenheit' and to_unit.lower() == 'degreecelsius':\n",
        "        result = tempconvert_client.service.FahrenheitToCelsius(temp)\n",
        "    else:\n",
        "        raise ValueError(f\"Invalid temperature conversion: {from_unit} to {to_unit}. Please try again.\")\n",
        "\n",
        "    return result"
      ],
      "outputs": [],
      "execution_count": null,
      "metadata": {
        "jupyter": {
          "source_hidden": false,
          "outputs_hidden": false
        },
        "nteract": {
          "transient": {
            "deleting": false
          }
        },
        "gather": {
          "logged": 1696951469165
        }
      },
      "id": "104e1c93-d8f1-465e-8df3-2ce0e3903c7a"
    },
    {
      "cell_type": "code",
      "source": [
        "# Function to convert number into words using SOAP service\n",
        "def convert_number_to_words(number):\n",
        "    result = numberconversion_client.service.NumberToWords(number)\n",
        "    return result"
      ],
      "outputs": [],
      "execution_count": null,
      "metadata": {
        "jupyter": {
          "source_hidden": false,
          "outputs_hidden": false
        },
        "nteract": {
          "transient": {
            "deleting": false
          }
        },
        "gather": {
          "logged": 1696951470518
        }
      },
      "id": "9dcbe45f-dfac-40c8-99d0-807920daf74b"
    },
    {
      "cell_type": "code",
      "source": [
        "open_app_button = widgets.Button(description=\"Open Web App in Separate Window\")\n",
        "open_app_button.on_click(lambda b: open_web_app())\n",
        "\n",
        "# Register the event handler for the convert button\n",
        "convert_button.on_click(convert_button_clicked)\n",
        "\n",
        "# Display the widgets\n",
        "display(temperature_input, from_unit_dropdown, to_unit_dropdown, convert_button, output_text, output_number, error_text, open_app_button)"
      ],
      "outputs": [],
      "execution_count": null,
      "metadata": {
        "jupyter": {
          "source_hidden": false,
          "outputs_hidden": false
        },
        "nteract": {
          "transient": {
            "deleting": false
          }
        },
        "gather": {
          "logged": 1696951472010
        }
      },
      "id": "88c6e926-5c76-41f2-acc8-63bc36a50593"
    },
    {
      "cell_type": "code",
      "source": [
        "!voila app.ipynb"
      ],
      "outputs": [],
      "execution_count": null,
      "metadata": {
        "jupyter": {
          "source_hidden": false,
          "outputs_hidden": false
        },
        "nteract": {
          "transient": {
            "deleting": false
          }
        }
      },
      "id": "e55f5829-c1ce-4516-b544-4c7cf9b6bbdb"
    }
  ],
  "metadata": {
    "kernelspec": {
      "name": "python38-azureml",
      "language": "python",
      "display_name": "Python 3.8 - AzureML"
    },
    "language_info": {
      "name": "python",
      "version": "3.8.5",
      "mimetype": "text/x-python",
      "codemirror_mode": {
        "name": "ipython",
        "version": 3
      },
      "pygments_lexer": "ipython3",
      "nbconvert_exporter": "python",
      "file_extension": ".py"
    },
    "microsoft": {
      "ms_spell_check": {
        "ms_spell_check_language": "en"
      },
      "host": {
        "AzureML": {
          "notebookHasBeenCompleted": true
        }
      }
    },
    "kernel_info": {
      "name": "python38-azureml"
    },
    "nteract": {
      "version": "nteract-front-end@1.0.0"
    }
  },
  "nbformat": 4,
  "nbformat_minor": 5
}