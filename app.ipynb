{
  "cells": [
    {
      "cell_type": "code",
      "source": [
        "!pip install -r requirements.txt\n",
        "\n",
        "import zeep\n",
        "from zeep import Client\n",
        "import ipywidgets as widgets\n",
        "from IPython.display import display\n",
        "import webbrowser"
      ],
      "outputs": [
        {
          "output_type": "stream",
          "name": "stdout",
          "text": "Requirement already satisfied: zeep==4.0.0 in /anaconda/envs/azureml_py38/lib/python3.8/site-packages (from -r requirements.txt (line 1)) (4.0.0)\nRequirement already satisfied: ipywidgets==7.6.5 in /anaconda/envs/azureml_py38/lib/python3.8/site-packages (from -r requirements.txt (line 2)) (7.6.5)\nRequirement already satisfied: notebook==6.4.5 in /anaconda/envs/azureml_py38/lib/python3.8/site-packages (from -r requirements.txt (line 3)) (6.4.5)\nRequirement already satisfied: Flask==2.0.2 in /anaconda/envs/azureml_py38/lib/python3.8/site-packages (from -r requirements.txt (line 4)) (2.0.2)\nCollecting voila==0.2.10\n  Downloading voila-0.2.10-py3-none-any.whl (1.6 MB)\n\u001b[K     |████████████████████████████████| 1.6 MB 5.1 MB/s eta 0:00:01\n\u001b[?25hRequirement already satisfied: lxml>=3.1.0 in /anaconda/envs/azureml_py38/lib/python3.8/site-packages (from zeep==4.0.0->-r requirements.txt (line 1)) (4.9.3)\nRequirement already satisfied: attrs>=17.2.0 in /anaconda/envs/azureml_py38/lib/python3.8/site-packages (from zeep==4.0.0->-r requirements.txt (line 1)) (23.1.0)\nRequirement already satisfied: pytz in /anaconda/envs/azureml_py38/lib/python3.8/site-packages (from zeep==4.0.0->-r requirements.txt (line 1)) (2022.5)\nRequirement already satisfied: appdirs>=1.4.0 in /anaconda/envs/azureml_py38/lib/python3.8/site-packages (from zeep==4.0.0->-r requirements.txt (line 1)) (1.4.4)\nRequirement already satisfied: requests-toolbelt>=0.7.1 in /anaconda/envs/azureml_py38/lib/python3.8/site-packages (from zeep==4.0.0->-r requirements.txt (line 1)) (1.0.0)\nRequirement already satisfied: defusedxml>=0.4.1 in /anaconda/envs/azureml_py38/lib/python3.8/site-packages (from zeep==4.0.0->-r requirements.txt (line 1)) (0.7.1)\nRequirement already satisfied: isodate>=0.5.4 in /anaconda/envs/azureml_py38/lib/python3.8/site-packages (from zeep==4.0.0->-r requirements.txt (line 1)) (0.6.1)\nRequirement already satisfied: requests>=2.7.0 in /anaconda/envs/azureml_py38/lib/python3.8/site-packages (from zeep==4.0.0->-r requirements.txt (line 1)) (2.31.0)\nRequirement already satisfied: cached-property>=1.3.0 in /anaconda/envs/azureml_py38/lib/python3.8/site-packages (from zeep==4.0.0->-r requirements.txt (line 1)) (1.5.2)\nRequirement already satisfied: requests-file>=1.5.1 in /anaconda/envs/azureml_py38/lib/python3.8/site-packages (from zeep==4.0.0->-r requirements.txt (line 1)) (1.5.1)\nRequirement already satisfied: ipython-genutils~=0.2.0 in /anaconda/envs/azureml_py38/lib/python3.8/site-packages (from ipywidgets==7.6.5->-r requirements.txt (line 2)) (0.2.0)\nRequirement already satisfied: nbformat>=4.2.0 in /anaconda/envs/azureml_py38/lib/python3.8/site-packages (from ipywidgets==7.6.5->-r requirements.txt (line 2)) (5.8.0)\nRequirement already satisfied: ipython>=4.0.0; python_version >= \"3.3\" in /anaconda/envs/azureml_py38/lib/python3.8/site-packages (from ipywidgets==7.6.5->-r requirements.txt (line 2)) (8.12.2)\nRequirement already satisfied: widgetsnbextension~=3.5.0 in /anaconda/envs/azureml_py38/lib/python3.8/site-packages (from ipywidgets==7.6.5->-r requirements.txt (line 2)) (3.5.2)\nRequirement already satisfied: jupyterlab-widgets>=1.0.0; python_version >= \"3.6\" in /anaconda/envs/azureml_py38/lib/python3.8/site-packages (from ipywidgets==7.6.5->-r requirements.txt (line 2)) (1.1.4)\nRequirement already satisfied: traitlets>=4.3.1 in /anaconda/envs/azureml_py38/lib/python3.8/site-packages (from ipywidgets==7.6.5->-r requirements.txt (line 2)) (5.9.0)\nRequirement already satisfied: ipykernel>=4.5.1 in /anaconda/envs/azureml_py38/lib/python3.8/site-packages (from ipywidgets==7.6.5->-r requirements.txt (line 2)) (6.22.0)\nRequirement already satisfied: jinja2 in /anaconda/envs/azureml_py38/lib/python3.8/site-packages (from notebook==6.4.5->-r requirements.txt (line 3)) (2.11.2)\nRequirement already satisfied: argon2-cffi in /anaconda/envs/azureml_py38/lib/python3.8/site-packages (from notebook==6.4.5->-r requirements.txt (line 3)) (21.3.0)\nRequirement already satisfied: nbconvert in /anaconda/envs/azureml_py38/lib/python3.8/site-packages (from notebook==6.4.5->-r requirements.txt (line 3)) (7.4.0)\nRequirement already satisfied: jupyter-client>=5.3.4 in /anaconda/envs/azureml_py38/lib/python3.8/site-packages (from notebook==6.4.5->-r requirements.txt (line 3)) (7.4.9)\nRequirement already satisfied: tornado>=6.1 in /anaconda/envs/azureml_py38/lib/python3.8/site-packages (from notebook==6.4.5->-r requirements.txt (line 3)) (6.3.2)\nRequirement already satisfied: pyzmq>=17 in /anaconda/envs/azureml_py38/lib/python3.8/site-packages (from notebook==6.4.5->-r requirements.txt (line 3)) (25.0.2)\nRequirement already satisfied: jupyter-core>=4.6.1 in /anaconda/envs/azureml_py38/lib/python3.8/site-packages (from notebook==6.4.5->-r requirements.txt (line 3)) (5.3.0)\nRequirement already satisfied: terminado>=0.8.3 in /anaconda/envs/azureml_py38/lib/python3.8/site-packages (from notebook==6.4.5->-r requirements.txt (line 3)) (0.17.1)\nRequirement already satisfied: prometheus-client in /anaconda/envs/azureml_py38/lib/python3.8/site-packages (from notebook==6.4.5->-r requirements.txt (line 3)) (0.16.0)\nRequirement already satisfied: Send2Trash>=1.5.0 in /anaconda/envs/azureml_py38/lib/python3.8/site-packages (from notebook==6.4.5->-r requirements.txt (line 3)) (1.8.2)\nRequirement already satisfied: itsdangerous>=2.0 in /anaconda/envs/azureml_py38/lib/python3.8/site-packages (from Flask==2.0.2->-r requirements.txt (line 4)) (2.1.2)\nRequirement already satisfied: click>=7.1.2 in /anaconda/envs/azureml_py38/lib/python3.8/site-packages (from Flask==2.0.2->-r requirements.txt (line 4)) (8.1.3)\nRequirement already satisfied: Werkzeug>=2.0 in /anaconda/envs/azureml_py38/lib/python3.8/site-packages (from Flask==2.0.2->-r requirements.txt (line 4)) (2.3.4)\nCollecting jupyter-server<2.0.0,>=0.3.0\n  Downloading jupyter_server-1.24.0-py3-none-any.whl (347 kB)\n\u001b[K     |████████████████████████████████| 347 kB 47.5 MB/s eta 0:00:01\n\u001b[?25hCollecting nbclient<0.6,>=0.4.0\n  Downloading nbclient-0.5.13-py3-none-any.whl (70 kB)\n\u001b[K     |████████████████████████████████| 70 kB 8.7 MB/s  eta 0:00:01\n\u001b[?25hRequirement already satisfied: six in /anaconda/envs/azureml_py38/lib/python3.8/site-packages (from isodate>=0.5.4->zeep==4.0.0->-r requirements.txt (line 1)) (1.16.0)\nRequirement already satisfied: idna<4,>=2.5 in /anaconda/envs/azureml_py38/lib/python3.8/site-packages (from requests>=2.7.0->zeep==4.0.0->-r requirements.txt (line 1)) (3.4)\nRequirement already satisfied: urllib3<3,>=1.21.1 in /anaconda/envs/azureml_py38/lib/python3.8/site-packages (from requests>=2.7.0->zeep==4.0.0->-r requirements.txt (line 1)) (1.26.16)\nRequirement already satisfied: certifi>=2017.4.17 in /anaconda/envs/azureml_py38/lib/python3.8/site-packages (from requests>=2.7.0->zeep==4.0.0->-r requirements.txt (line 1)) (2022.9.24)\nRequirement already satisfied: charset-normalizer<4,>=2 in /anaconda/envs/azureml_py38/lib/python3.8/site-packages (from requests>=2.7.0->zeep==4.0.0->-r requirements.txt (line 1)) (3.1.0)\nRequirement already satisfied: jsonschema>=2.6 in /anaconda/envs/azureml_py38/lib/python3.8/site-packages (from nbformat>=4.2.0->ipywidgets==7.6.5->-r requirements.txt (line 2)) (4.17.3)\nRequirement already satisfied: fastjsonschema in /anaconda/envs/azureml_py38/lib/python3.8/site-packages (from nbformat>=4.2.0->ipywidgets==7.6.5->-r requirements.txt (line 2)) (2.17.1)\nRequirement already satisfied: backcall in /anaconda/envs/azureml_py38/lib/python3.8/site-packages (from ipython>=4.0.0; python_version >= \"3.3\"->ipywidgets==7.6.5->-r requirements.txt (line 2)) (0.2.0)\nRequirement already satisfied: typing-extensions; python_version < \"3.10\" in /anaconda/envs/azureml_py38/lib/python3.8/site-packages (from ipython>=4.0.0; python_version >= \"3.3\"->ipywidgets==7.6.5->-r requirements.txt (line 2)) (4.6.0)\nRequirement already satisfied: pexpect>4.3; sys_platform != \"win32\" in /anaconda/envs/azureml_py38/lib/python3.8/site-packages (from ipython>=4.0.0; python_version >= \"3.3\"->ipywidgets==7.6.5->-r requirements.txt (line 2)) (4.8.0)\nRequirement already satisfied: decorator in /anaconda/envs/azureml_py38/lib/python3.8/site-packages (from ipython>=4.0.0; python_version >= \"3.3\"->ipywidgets==7.6.5->-r requirements.txt (line 2)) (5.1.1)\nRequirement already satisfied: pickleshare in /anaconda/envs/azureml_py38/lib/python3.8/site-packages (from ipython>=4.0.0; python_version >= \"3.3\"->ipywidgets==7.6.5->-r requirements.txt (line 2)) (0.7.5)\nRequirement already satisfied: matplotlib-inline in /anaconda/envs/azureml_py38/lib/python3.8/site-packages (from ipython>=4.0.0; python_version >= \"3.3\"->ipywidgets==7.6.5->-r requirements.txt (line 2)) (0.1.6)\nRequirement already satisfied: jedi>=0.16 in /anaconda/envs/azureml_py38/lib/python3.8/site-packages (from ipython>=4.0.0; python_version >= \"3.3\"->ipywidgets==7.6.5->-r requirements.txt (line 2)) (0.18.0)\nRequirement already satisfied: pygments>=2.4.0 in /anaconda/envs/azureml_py38/lib/python3.8/site-packages (from ipython>=4.0.0; python_version >= \"3.3\"->ipywidgets==7.6.5->-r requirements.txt (line 2)) (2.15.1)\nRequirement already satisfied: stack-data in /anaconda/envs/azureml_py38/lib/python3.8/site-packages (from ipython>=4.0.0; python_version >= \"3.3\"->ipywidgets==7.6.5->-r requirements.txt (line 2)) (0.6.2)\nRequirement already satisfied: prompt-toolkit!=3.0.37,<3.1.0,>=3.0.30 in /anaconda/envs/azureml_py38/lib/python3.8/site-packages (from ipython>=4.0.0; python_version >= \"3.3\"->ipywidgets==7.6.5->-r requirements.txt (line 2)) (3.0.30)\nRequirement already satisfied: nest-asyncio in /anaconda/envs/azureml_py38/lib/python3.8/site-packages (from ipykernel>=4.5.1->ipywidgets==7.6.5->-r requirements.txt (line 2)) (1.5.6)\nRequirement already satisfied: debugpy>=1.6.5 in /anaconda/envs/azureml_py38/lib/python3.8/site-packages (from ipykernel>=4.5.1->ipywidgets==7.6.5->-r requirements.txt (line 2)) (1.6.7)\nRequirement already satisfied: psutil in /anaconda/envs/azureml_py38/lib/python3.8/site-packages (from ipykernel>=4.5.1->ipywidgets==7.6.5->-r requirements.txt (line 2)) (5.9.5)\nRequirement already satisfied: packaging in /anaconda/envs/azureml_py38/lib/python3.8/site-packages (from ipykernel>=4.5.1->ipywidgets==7.6.5->-r requirements.txt (line 2)) (23.0)\nRequirement already satisfied: comm>=0.1.1 in /anaconda/envs/azureml_py38/lib/python3.8/site-packages (from ipykernel>=4.5.1->ipywidgets==7.6.5->-r requirements.txt (line 2)) (0.1.3)\nRequirement already satisfied: MarkupSafe>=0.23 in /anaconda/envs/azureml_py38/lib/python3.8/site-packages (from jinja2->notebook==6.4.5->-r requirements.txt (line 3)) (2.0.1)\nRequirement already satisfied: argon2-cffi-bindings in /anaconda/envs/azureml_py38/lib/python3.8/site-packages (from argon2-cffi->notebook==6.4.5->-r requirements.txt (line 3)) (21.2.0)\nRequirement already satisfied: importlib-metadata>=3.6; python_version < \"3.10\" in /anaconda/envs/azureml_py38/lib/python3.8/site-packages (from nbconvert->notebook==6.4.5->-r requirements.txt (line 3)) (6.6.0)\nRequirement already satisfied: pandocfilters>=1.4.1 in /anaconda/envs/azureml_py38/lib/python3.8/site-packages (from nbconvert->notebook==6.4.5->-r requirements.txt (line 3)) (1.5.0)\nRequirement already satisfied: bleach in /anaconda/envs/azureml_py38/lib/python3.8/site-packages (from nbconvert->notebook==6.4.5->-r requirements.txt (line 3)) (6.0.0)\nRequirement already satisfied: mistune<3,>=2.0.3 in /anaconda/envs/azureml_py38/lib/python3.8/site-packages (from nbconvert->notebook==6.4.5->-r requirements.txt (line 3)) (2.0.5)\nRequirement already satisfied: jupyterlab-pygments in /anaconda/envs/azureml_py38/lib/python3.8/site-packages (from nbconvert->notebook==6.4.5->-r requirements.txt (line 3)) (0.2.2)\nRequirement already satisfied: tinycss2 in /anaconda/envs/azureml_py38/lib/python3.8/site-packages (from nbconvert->notebook==6.4.5->-r requirements.txt (line 3)) (1.2.1)\nRequirement already satisfied: beautifulsoup4 in /anaconda/envs/azureml_py38/lib/python3.8/site-packages (from nbconvert->notebook==6.4.5->-r requirements.txt (line 3)) (4.12.2)\nRequirement already satisfied: entrypoints in /anaconda/envs/azureml_py38/lib/python3.8/site-packages (from jupyter-client>=5.3.4->notebook==6.4.5->-r requirements.txt (line 3)) (0.4)\nRequirement already satisfied: python-dateutil>=2.8.2 in /anaconda/envs/azureml_py38/lib/python3.8/site-packages (from jupyter-client>=5.3.4->notebook==6.4.5->-r requirements.txt (line 3)) (2.8.2)\nRequirement already satisfied: platformdirs>=2.5 in /anaconda/envs/azureml_py38/lib/python3.8/site-packages (from jupyter-core>=4.6.1->notebook==6.4.5->-r requirements.txt (line 3)) (3.5.1)\nRequirement already satisfied: ptyprocess; os_name != \"nt\" in /anaconda/envs/azureml_py38/lib/python3.8/site-packages (from terminado>=0.8.3->notebook==6.4.5->-r requirements.txt (line 3)) (0.7.0)\nRequirement already satisfied: anyio<4,>=3.1.0 in /anaconda/envs/azureml_py38/lib/python3.8/site-packages (from jupyter-server<2.0.0,>=0.3.0->voila==0.2.10->-r requirements.txt (line 5)) (3.6.2)\nRequirement already satisfied: websocket-client in /anaconda/envs/azureml_py38/lib/python3.8/site-packages (from jupyter-server<2.0.0,>=0.3.0->voila==0.2.10->-r requirements.txt (line 5)) (1.3.3)\nRequirement already satisfied: pkgutil-resolve-name>=1.3.10; python_version < \"3.9\" in /anaconda/envs/azureml_py38/lib/python3.8/site-packages (from jsonschema>=2.6->nbformat>=4.2.0->ipywidgets==7.6.5->-r requirements.txt (line 2)) (1.3.10)\nRequirement already satisfied: importlib-resources>=1.4.0; python_version < \"3.9\" in /anaconda/envs/azureml_py38/lib/python3.8/site-packages (from jsonschema>=2.6->nbformat>=4.2.0->ipywidgets==7.6.5->-r requirements.txt (line 2)) (5.12.0)\nRequirement already satisfied: pyrsistent!=0.17.0,!=0.17.1,!=0.17.2,>=0.14.0 in /anaconda/envs/azureml_py38/lib/python3.8/site-packages (from jsonschema>=2.6->nbformat>=4.2.0->ipywidgets==7.6.5->-r requirements.txt (line 2)) (0.19.3)\nRequirement already satisfied: parso<0.9.0,>=0.8.0 in /anaconda/envs/azureml_py38/lib/python3.8/site-packages (from jedi>=0.16->ipython>=4.0.0; python_version >= \"3.3\"->ipywidgets==7.6.5->-r requirements.txt (line 2)) (0.8.3)\nRequirement already satisfied: pure-eval in /anaconda/envs/azureml_py38/lib/python3.8/site-packages (from stack-data->ipython>=4.0.0; python_version >= \"3.3\"->ipywidgets==7.6.5->-r requirements.txt (line 2)) (0.2.2)\nRequirement already satisfied: asttokens>=2.1.0 in /anaconda/envs/azureml_py38/lib/python3.8/site-packages (from stack-data->ipython>=4.0.0; python_version >= \"3.3\"->ipywidgets==7.6.5->-r requirements.txt (line 2)) (2.2.1)\nRequirement already satisfied: executing>=1.2.0 in /anaconda/envs/azureml_py38/lib/python3.8/site-packages (from stack-data->ipython>=4.0.0; python_version >= \"3.3\"->ipywidgets==7.6.5->-r requirements.txt (line 2)) (1.2.0)\nRequirement already satisfied: wcwidth in /anaconda/envs/azureml_py38/lib/python3.8/site-packages (from prompt-toolkit!=3.0.37,<3.1.0,>=3.0.30->ipython>=4.0.0; python_version >= \"3.3\"->ipywidgets==7.6.5->-r requirements.txt (line 2)) (0.2.6)\nRequirement already satisfied: cffi>=1.0.1 in /anaconda/envs/azureml_py38/lib/python3.8/site-packages (from argon2-cffi-bindings->argon2-cffi->notebook==6.4.5->-r requirements.txt (line 3)) (1.15.1)\nRequirement already satisfied: zipp>=0.5 in /anaconda/envs/azureml_py38/lib/python3.8/site-packages (from importlib-metadata>=3.6; python_version < \"3.10\"->nbconvert->notebook==6.4.5->-r requirements.txt (line 3)) (3.12.0)\nRequirement already satisfied: webencodings in /anaconda/envs/azureml_py38/lib/python3.8/site-packages (from bleach->nbconvert->notebook==6.4.5->-r requirements.txt (line 3)) (0.5.1)\nRequirement already satisfied: soupsieve>1.2 in /anaconda/envs/azureml_py38/lib/python3.8/site-packages (from beautifulsoup4->nbconvert->notebook==6.4.5->-r requirements.txt (line 3)) (2.4.1)\nRequirement already satisfied: sniffio>=1.1 in /anaconda/envs/azureml_py38/lib/python3.8/site-packages (from anyio<4,>=3.1.0->jupyter-server<2.0.0,>=0.3.0->voila==0.2.10->-r requirements.txt (line 5)) (1.3.0)\nRequirement already satisfied: pycparser in /anaconda/envs/azureml_py38/lib/python3.8/site-packages (from cffi>=1.0.1->argon2-cffi-bindings->argon2-cffi->notebook==6.4.5->-r requirements.txt (line 3)) (2.21)\n\u001b[31mERROR: nbconvert 7.4.0 has requirement jinja2>=3.0, but you'll have jinja2 2.11.2 which is incompatible.\u001b[0m\n\u001b[31mERROR: jupyterlab 3.2.4 has requirement nbclassic~=0.2, but you'll have nbclassic 1.0.0 which is incompatible.\u001b[0m\n\u001b[31mERROR: jupyterlab-server 2.23.0 has requirement jinja2>=3.0.3, but you'll have jinja2 2.11.2 which is incompatible.\u001b[0m\n\u001b[31mERROR: voila 0.2.10 has requirement jupyter-client<7,>=6.1.3, but you'll have jupyter-client 7.4.9 which is incompatible.\u001b[0m\n\u001b[31mERROR: voila 0.2.10 has requirement nbconvert<7,>=6.0.0, but you'll have nbconvert 7.4.0 which is incompatible.\u001b[0m\nInstalling collected packages: jupyter-server, nbclient, voila\n  Attempting uninstall: jupyter-server\n    Found existing installation: jupyter-server 2.5.0\n    Uninstalling jupyter-server-2.5.0:\n      Successfully uninstalled jupyter-server-2.5.0\n  Attempting uninstall: nbclient\n    Found existing installation: nbclient 0.8.0\n    Uninstalling nbclient-0.8.0:\n      Successfully uninstalled nbclient-0.8.0\nSuccessfully installed jupyter-server-1.24.0 nbclient-0.5.13 voila-0.2.10\n"
        }
      ],
      "execution_count": 12,
      "metadata": {
        "gather": {
          "logged": 1696951433549
        }
      },
      "id": "51ffb59d"
    },
    {
      "cell_type": "code",
      "source": [
        "temperature_input = widgets.FloatText(description=\"Temperature:\")\n",
        "from_unit_dropdown = widgets.Dropdown(options=[\"degreeFahrenheit\", \"degreeCelsius\"], description=\"From:\")\n",
        "to_unit_dropdown = widgets.Dropdown(options=[\"degreeCelsius\", \"degreeFahrenheit\"], description=\"To:\")\n",
        "convert_button = widgets.Button(description=\"Convert\")\n",
        "\n",
        "output_text = widgets.Text(description=\"Converted Temperature:\")\n",
        "output_number = widgets.Text(description=\"Number Converted to Words:\")\n",
        "error_text = widgets.Text(description=\"Error:\")"
      ],
      "outputs": [],
      "execution_count": 2,
      "metadata": {
        "gather": {
          "logged": 1696950713103
        }
      },
      "id": "a3b87011"
    },
    {
      "cell_type": "code",
      "source": [
        "def convert_button_clicked(b):\n",
        "    try:\n",
        "        # Get input values\n",
        "        temp = temperature_input.value\n",
        "        from_unit = from_unit_dropdown.value\n",
        "        to_unit = to_unit_dropdown.value\n",
        "        \n",
        "        # Call function to convert temperature\n",
        "        converted_temp = convert_temperature(temp, from_unit, to_unit)\n",
        "\n",
        "        # Convert the converted_temp to a float for comparison\n",
        "        converted_temp_float = float(converted_temp)\n",
        "\n",
        "        if converted_temp_float < 0:\n",
        "            # Set the converted_temp to its absolute value\n",
        "            converted_temp = abs(converted_temp_float)\n",
        "        else:\n",
        "            error_text.value = \"\"  # Clear any previous error message\n",
        "\n",
        "        # Display the original converted temperature value\n",
        "        output_text.value = str(converted_temp_float)\n",
        "        \n",
        "        # Call function to convert number to words\n",
        "        number_converted = convert_number_to_words(converted_temp)\n",
        "        \n",
        "        # Check if the converted temperature has fractional parts other than .00\n",
        "        if converted_temp_float % 1 != 0 and str(converted_temp_float % 1) != \".00\":\n",
        "            error_text.value = \"Error: SOAP cannot convert fractional values. Temperature rounded down.\"\n",
        "        \n",
        "        if converted_temp_float < 0:\n",
        "            # Display negative value with \"Negative\" prefix\n",
        "            output_number.value = \"Negative \" + number_converted\n",
        "        else:\n",
        "            output_number.value = number_converted\n",
        "                \n",
        "    except Exception as e:\n",
        "        error_text.value = str(e)\n"
      ],
      "outputs": [],
      "execution_count": 13,
      "metadata": {
        "jupyter": {
          "source_hidden": false,
          "outputs_hidden": false
        },
        "nteract": {
          "transient": {
            "deleting": false
          }
        },
        "gather": {
          "logged": 1696951463275
        }
      },
      "id": "a3e73f9d-5a76-4847-864c-92147c1b4ba6"
    },
    {
      "cell_type": "code",
      "source": [
        "def open_web_app():\n",
        "    webbrowser.open_new_tab(\"http://localhost:8890/notebooks/temp_converter.ipynb\")"
      ],
      "outputs": [],
      "execution_count": 14,
      "metadata": {
        "jupyter": {
          "source_hidden": false,
          "outputs_hidden": false
        },
        "nteract": {
          "transient": {
            "deleting": false
          }
        },
        "gather": {
          "logged": 1696951465465
        }
      },
      "id": "e71e137a-d63f-4c5a-b35a-e907e8e3f346"
    },
    {
      "cell_type": "code",
      "source": [
        "# WSDL URLs for SOAP services\n",
        "tempconvert_wsdl = \"https://www.w3schools.com/xml/tempconvert.asmx?WSDL\"\n",
        "numberconversion_wsdl = \"https://www.dataaccess.com/webservicesserver/numberconversion.wso?WSDL\"\n",
        "\n",
        "# Create clients for both SOAP services\n",
        "tempconvert_client = Client(tempconvert_wsdl)\n",
        "numberconversion_client = Client(numberconversion_wsdl)\n"
      ],
      "outputs": [
        {
          "output_type": "stream",
          "name": "stderr",
          "text": "Forcing soap:address location to HTTPS\nForcing soap:address location to HTTPS\nForcing http:address location to HTTPS\n"
        }
      ],
      "execution_count": 15,
      "metadata": {
        "jupyter": {
          "source_hidden": false,
          "outputs_hidden": false
        },
        "nteract": {
          "transient": {
            "deleting": false
          }
        },
        "gather": {
          "logged": 1696951466765
        }
      },
      "id": "3a086e8b-1d5e-41d5-9354-754f044c0f86"
    },
    {
      "cell_type": "code",
      "source": [
        "# Function to convert temperature using SOAP service\n",
        "def convert_temperature(temp, from_unit, to_unit):\n",
        "    # Call the appropriate operation based on the units\n",
        "    if from_unit.lower() == 'degreecelsius' and to_unit.lower() == 'degreefahrenheit':\n",
        "        result = tempconvert_client.service.CelsiusToFahrenheit(temp)\n",
        "    elif from_unit.lower() == 'degreefahrenheit' and to_unit.lower() == 'degreecelsius':\n",
        "        result = tempconvert_client.service.FahrenheitToCelsius(temp)\n",
        "    else:\n",
        "        raise ValueError(f\"Invalid temperature conversion: {from_unit} to {to_unit}. Please try again.\")\n",
        "\n",
        "    return result"
      ],
      "outputs": [],
      "execution_count": 16,
      "metadata": {
        "jupyter": {
          "source_hidden": false,
          "outputs_hidden": false
        },
        "nteract": {
          "transient": {
            "deleting": false
          }
        },
        "gather": {
          "logged": 1696951469165
        }
      },
      "id": "104e1c93-d8f1-465e-8df3-2ce0e3903c7a"
    },
    {
      "cell_type": "code",
      "source": [
        "# Function to convert number into words using SOAP service\n",
        "def convert_number_to_words(number):\n",
        "    result = numberconversion_client.service.NumberToWords(number)\n",
        "    return result"
      ],
      "outputs": [],
      "execution_count": 17,
      "metadata": {
        "jupyter": {
          "source_hidden": false,
          "outputs_hidden": false
        },
        "nteract": {
          "transient": {
            "deleting": false
          }
        },
        "gather": {
          "logged": 1696951470518
        }
      },
      "id": "9dcbe45f-dfac-40c8-99d0-807920daf74b"
    },
    {
      "cell_type": "code",
      "source": [
        "open_app_button = widgets.Button(description=\"Open Web App in Separate Window\")\n",
        "open_app_button.on_click(lambda b: open_web_app())\n",
        "\n",
        "# Register the event handler for the convert button\n",
        "convert_button.on_click(convert_button_clicked)\n",
        "\n",
        "# Display the widgets\n",
        "display(temperature_input, from_unit_dropdown, to_unit_dropdown, convert_button, output_text, output_number, error_text, open_app_button)"
      ],
      "outputs": [
        {
          "output_type": "display_data",
          "data": {
            "text/plain": "FloatText(value=0.0, description='Temperature:')",
            "application/vnd.jupyter.widget-view+json": {
              "version_major": 2,
              "version_minor": 0,
              "model_id": "3cce144317d74a94a55567d4cd026609"
            }
          },
          "metadata": {}
        },
        {
          "output_type": "display_data",
          "data": {
            "text/plain": "Dropdown(description='From:', options=('degreeFahrenheit', 'degreeCelsius'), value='degreeFahrenheit')",
            "application/vnd.jupyter.widget-view+json": {
              "version_major": 2,
              "version_minor": 0,
              "model_id": "86d248bffef84de1b35450c270f349d3"
            }
          },
          "metadata": {}
        },
        {
          "output_type": "display_data",
          "data": {
            "text/plain": "Dropdown(description='To:', options=('degreeCelsius', 'degreeFahrenheit'), value='degreeCelsius')",
            "application/vnd.jupyter.widget-view+json": {
              "version_major": 2,
              "version_minor": 0,
              "model_id": "d8ab32ff001a41b0ab89140e88fecd05"
            }
          },
          "metadata": {}
        },
        {
          "output_type": "display_data",
          "data": {
            "text/plain": "Button(description='Convert', style=ButtonStyle())",
            "application/vnd.jupyter.widget-view+json": {
              "version_major": 2,
              "version_minor": 0,
              "model_id": "8a7c810fb12c4813b883e6920c6c02df"
            }
          },
          "metadata": {}
        },
        {
          "output_type": "display_data",
          "data": {
            "text/plain": "Text(value='-17.7777777777778', description='Converted Temperature:')",
            "application/vnd.jupyter.widget-view+json": {
              "version_major": 2,
              "version_minor": 0,
              "model_id": "7bba574e9e6246f6aa83a7f847d5f64b"
            }
          },
          "metadata": {}
        },
        {
          "output_type": "display_data",
          "data": {
            "text/plain": "Text(value='Negative seventeen ', description='Number Converted to Words:')",
            "application/vnd.jupyter.widget-view+json": {
              "version_major": 2,
              "version_minor": 0,
              "model_id": "0f6eaeb3a3e940c9ba7dd3610c42dca2"
            }
          },
          "metadata": {}
        },
        {
          "output_type": "display_data",
          "data": {
            "text/plain": "Text(value='Error: SOAP cannot convert fractional values. Temperature rounded down.', description='Error:')",
            "application/vnd.jupyter.widget-view+json": {
              "version_major": 2,
              "version_minor": 0,
              "model_id": "c5462193281e4a00964183637cc2d94e"
            }
          },
          "metadata": {}
        },
        {
          "output_type": "display_data",
          "data": {
            "text/plain": "Button(description='Open Web App in Separate Window', style=ButtonStyle())",
            "application/vnd.jupyter.widget-view+json": {
              "version_major": 2,
              "version_minor": 0,
              "model_id": "fc39723d8cd04be1a44d6957831ad528"
            }
          },
          "metadata": {}
        }
      ],
      "execution_count": 18,
      "metadata": {
        "jupyter": {
          "source_hidden": false,
          "outputs_hidden": false
        },
        "nteract": {
          "transient": {
            "deleting": false
          }
        },
        "gather": {
          "logged": 1696951472010
        }
      },
      "id": "88c6e926-5c76-41f2-acc8-63bc36a50593"
    },
    {
      "cell_type": "code",
      "source": [
        "!voila app.ipynb"
      ],
      "outputs": [
        {
          "output_type": "stream",
          "name": "stdout",
          "text": "[Voila] Using /tmp to store connection files\n[Voila] Storing connection files in /tmp/voila_i4d5lzfz.\n[Voila] Serving static files from /anaconda/envs/azureml_py38/lib/python3.8/site-packages/voila/static.\n[Voila] Voilà is running at:\nhttp://localhost:8866/\n[Voila] WARNING | No web browser found: could not locate runnable browser.\n^C\n[Voila] Stopping...\n"
        }
      ],
      "execution_count": 20,
      "metadata": {
        "jupyter": {
          "source_hidden": false,
          "outputs_hidden": false
        },
        "nteract": {
          "transient": {
            "deleting": false
          }
        }
      },
      "id": "e55f5829-c1ce-4516-b544-4c7cf9b6bbdb"
    }
  ],
  "metadata": {
    "kernelspec": {
      "name": "python38-azureml",
      "language": "python",
      "display_name": "Python 3.8 - AzureML"
    },
    "language_info": {
      "name": "python",
      "version": "3.8.5",
      "mimetype": "text/x-python",
      "codemirror_mode": {
        "name": "ipython",
        "version": 3
      },
      "pygments_lexer": "ipython3",
      "nbconvert_exporter": "python",
      "file_extension": ".py"
    },
    "microsoft": {
      "ms_spell_check": {
        "ms_spell_check_language": "en"
      },
      "host": {
        "AzureML": {
          "notebookHasBeenCompleted": true
        }
      }
    },
    "kernel_info": {
      "name": "python38-azureml"
    },
    "nteract": {
      "version": "nteract-front-end@1.0.0"
    }
  },
  "nbformat": 4,
  "nbformat_minor": 5
}